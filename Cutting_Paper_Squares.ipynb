{
  "nbformat": 4,
  "nbformat_minor": 0,
  "metadata": {
    "colab": {
      "name": "Cutting Paper Squares.ipynb",
      "provenance": [],
      "collapsed_sections": []
    },
    "kernelspec": {
      "name": "python3",
      "display_name": "Python 3"
    }
  },
  "cells": [
    {
      "cell_type": "markdown",
      "metadata": {
        "id": "n5QqXTzfblkA"
      },
      "source": [
        "Cutting Paper Squares\n",
        "\n",
        "Mary has an n x m piece of paper that she wants to cut into 1 x 1 pieces according to the following rules:\n",
        "\n",
        "She can only cut one piece of paper at a time, meaning she cannot fold the paper or layer already-cut pieces on top of one another.\n",
        "Each cut is a straight line from one side of the paper to the other side of the paper. For example, the diagram below depicts the three possible ways to cut a  3 x 2 piece of paper:\n",
        "\n",
        "example-cutting-squares.png\n",
        "Given  n and m, find and print the minimum number of cuts Mary must make to cut the paper into n.m squares that are      1 x 1 unit in size.\n",
        "\n",
        "Note : you have to write the complete code for taking input and print the result.\n",
        "\n",
        "Input Format\n",
        "\n",
        "A single line of two space-separated integers denoting the respective values of  n and m.\n",
        "\n",
        "Constraints\n",
        "\n",
        "1<=n, m<=109\n",
        "\n",
        "Output Format\n",
        "\n",
        "Print a long integer denoting the minimum number of cuts needed to cut the entire paper into  1 x 1 squares.\n",
        "\n",
        "Sample Input\n",
        "\n",
        "3 1\n",
        "\n",
        "Sample Output\n",
        "\n",
        "2\n",
        "\n",
        "Explanation\n",
        "\n",
        "Mary first cuts the  3 x 1 piece of paper into a 1 x 1 piece and a 2 x 1 piece. She then cuts the 2 x 1 piece into two 1 x 1 pieces:\n",
        "\n",
        "cutting-paper-squares.png\n",
        "\n",
        "Because it took her two cuts to get n x m=3 pieces of size  1 x 1, we print 2  as our answer.\n",
        "\n"
      ]
    },
    {
      "cell_type": "code",
      "metadata": {
        "id": "MhJ59MsebjEI"
      },
      "source": [
        "n,m=map(int,input().split())\n",
        "print(n*m-1)\n"
      ],
      "execution_count": null,
      "outputs": []
    },
    {
      "cell_type": "markdown",
      "metadata": {
        "id": "YWTDrsdlcGnm"
      },
      "source": [
        "Status\n",
        "\n",
        "Test Cases Passed\n",
        "\n",
        "Input\n",
        "\n",
        "3 1\n",
        "\n",
        "Expected Output\n",
        "\n",
        "2\n",
        "\n",
        "Your Output\n",
        "\n",
        "2"
      ]
    },
    {
      "cell_type": "markdown",
      "metadata": {
        "id": "-Z83dO4fcXQv"
      },
      "source": [
        ""
      ]
    }
  ]
}