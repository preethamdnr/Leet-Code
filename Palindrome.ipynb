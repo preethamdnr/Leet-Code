{
  "nbformat": 4,
  "nbformat_minor": 0,
  "metadata": {
    "colab": {
      "provenance": []
    },
    "kernelspec": {
      "name": "python3",
      "display_name": "Python 3"
    },
    "language_info": {
      "name": "python"
    }
  },
  "cells": [
    {
      "cell_type": "code",
      "source": [],
      "metadata": {
        "id": "z110wrQGpya7"
      },
      "execution_count": null,
      "outputs": []
    },
    {
      "cell_type": "markdown",
      "source": [
        "**Given an integer x, return true if x is a palindrome, and false otherwise.**\n",
        "\n",
        "**Example 1:**\n",
        "\n",
        "Input: x = 121\n",
        "\n",
        "Output: true\n",
        "\n",
        "Explanation: 121 reads as 121 from left to right and from right to left.\n",
        "\n",
        "**Example 2:**\n",
        "\n",
        "Input: x = -121\n",
        "\n",
        "Output: false\n",
        "\n",
        "Explanation: From left to right, it reads -121. \n",
        "\n",
        "From right to left, it becomes 121-. \n",
        "Therefore it is not a palindrome.\n"
      ],
      "metadata": {
        "id": "nKJbh60opqCx"
      }
    },
    {
      "cell_type": "code",
      "source": [
        "class Solution:\n",
        "    def isPalindrome(self, x: int) -> bool:\n",
        "        if x<0:\n",
        "            return False\n",
        "        y=str(x)\n",
        "        if(y==y[::-1]):\n",
        "            return True\n",
        "        else:\n",
        "            return False"
      ],
      "metadata": {
        "id": "QnV-Ay8eqPzr"
      },
      "execution_count": null,
      "outputs": []
    }
  ]
}