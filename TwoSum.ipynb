{
  "nbformat": 4,
  "nbformat_minor": 0,
  "metadata": {
    "colab": {
      "name": "TwoSum.ipynb",
      "provenance": [],
      "collapsed_sections": []
    },
    "kernelspec": {
      "name": "python3",
      "display_name": "Python 3"
    }
  },
  "cells": [
    {
      "cell_type": "code",
      "metadata": {
        "id": "-Vw2uJKddHfv"
      },
      "source": [
        ""
      ],
      "execution_count": null,
      "outputs": []
    },
    {
      "cell_type": "markdown",
      "metadata": {
        "id": "hBWEZQMudQIM"
      },
      "source": [
        "Two sum\n",
        "\n",
        "Given an array of integers, return indices of the two numbers such that they add up to a specific target.\n",
        "\n",
        "You may assume that each input would have exactly one solution, and you may not use the same element twice.\n",
        "\n",
        "Example:\n",
        "\n",
        "Given nums = [2, 7, 11, 15], target = 9,  \n",
        "\n",
        "Because nums[0] + nums[1] = 2 + 7 = 9, return [0, 1].\n",
        "\n"
      ]
    },
    {
      "cell_type": "code",
      "metadata": {
        "id": "ziyQ3n6LdaBo"
      },
      "source": [
        "l=list(map(int,input().split()))\n",
        "target = input()\n",
        "p=len(l)\n",
        "m=[]\n",
        "for i in range(p):\n",
        "    if(i<=p-2):\n",
        "        c=int(l[i])\n",
        "        d=int(l[i+1])\n",
        "        w=l[i]+l[i+1]\n",
        "        m.append(i)\n",
        "        m.append(i+1)\n",
        "        if(w==target):\n",
        "            print(m)\n",
        "        else:\n",
        "            m=[]\n"
      ],
      "execution_count": null,
      "outputs": []
    }
  ]
}