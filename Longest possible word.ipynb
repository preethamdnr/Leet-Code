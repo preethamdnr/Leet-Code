{
  "nbformat": 4,
  "nbformat_minor": 0,
  "metadata": {
    "colab": {
      "name": "Untitled0.ipynb",
      "provenance": [],
      "collapsed_sections": []
    },
    "kernelspec": {
      "name": "python3",
      "display_name": "Python 3"
    }
  },
  "cells": [
    {
      "cell_type": "code",
      "metadata": {
        "id": "2KX8d69xxhI9"
      },
      "source": [
        ""
      ],
      "execution_count": null,
      "outputs": []
    },
    {
      "cell_type": "markdown",
      "metadata": {
        "id": "jz0dx8g1xiEn"
      },
      "source": [
        "**Longest possible word**\n",
        "\n",
        "Write a program which takes a list of words as input and returns the longest word in the list made of any other words in the list.\n",
        "\n",
        "The input to the program is as follows:\n",
        "\n",
        "The first line contains an integer N, denoting the number of words in the list.\n",
        "Then, N lines follow, each containing a word.\n",
        "Print the largest word in these set of words which can be created by the words present inside the list.\n",
        "\n",
        "Sample Input 1:\n",
        "\n",
        "8\n",
        "\n",
        "cat\n",
        "\n",
        "banana\n",
        "\n",
        "dog\n",
        "\n",
        "animal\n",
        "\n",
        "catdog\n",
        "\n",
        "doganimal\n",
        "\n",
        "catdoganimal\n",
        "\n",
        "animalhippo \n",
        "\n",
        "Sample Output 1:\n",
        "\n",
        "catdoganimal\n",
        "\n"
      ]
    },
    {
      "cell_type": "code",
      "metadata": {
        "id": "LCzC0KSxyb1z"
      },
      "source": [
        "t=int(input())\n",
        "q=[]\n",
        "l=[]\n",
        "for i in range(t):\n",
        "    z=input()\n",
        "    l.append(z)\n",
        "for i in range(len(l)):\n",
        "    a=len(l[i])\n",
        "    q.append(a)\n",
        "o=q.index(max(q))\n",
        "print(l[o])    \n"
      ],
      "execution_count": null,
      "outputs": []
    }
  ]
}